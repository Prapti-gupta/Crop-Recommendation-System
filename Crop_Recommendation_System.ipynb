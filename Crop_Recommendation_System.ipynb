{
 "cells": [
  {
   "cell_type": "code",
   "execution_count": 25,
   "metadata": {},
   "outputs": [],
   "source": [
    "# Importing libraries\n",
    "\n",
    "from __future__ import print_function\n",
    "import pandas as pd\n",
    "import numpy as np\n",
    "import matplotlib.pyplot as plt\n",
    "import seaborn as sns\n",
    "from sklearn.metrics import classification_report\n",
    "from sklearn import metrics\n",
    "from sklearn import tree\n",
    "import warnings\n",
    "warnings.filterwarnings('ignore')"
   ]
  },
  {
   "cell_type": "code",
   "execution_count": 26,
   "metadata": {},
   "outputs": [
    {
     "name": "stdout",
     "output_type": "stream",
     "text": [
      "    N   P   K  temperature   humidity        ph    rainfall label\n",
      "0  90  42  43    20.879744  82.002744  6.502985  202.935536  rice\n",
      "1  85  58  41    21.770462  80.319644  7.038096  226.655537  rice\n",
      "2  60  55  44    23.004459  82.320763  7.840207  263.964248  rice\n",
      "3  74  35  40    26.491096  80.158363  6.980401  242.864034  rice\n",
      "4  78  42  42    20.130175  81.604873  7.628473  262.717340  rice\n",
      "\n",
      "\n",
      "Size: 17600\n",
      "Shape: (2200, 8)\n",
      "Columns: Index(['N', 'P', 'K', 'temperature', 'humidity', 'ph', 'rainfall', 'label'], dtype='object')\n",
      "\n",
      "Unique Labels: ['rice' 'maize' 'chickpea' 'kidneybeans' 'pigeonpeas' 'mothbeans'\n",
      " 'mungbean' 'blackgram' 'lentil' 'pomegranate' 'banana' 'mango' 'grapes'\n",
      " 'watermelon' 'muskmelon' 'apple' 'orange' 'papaya' 'coconut' 'cotton'\n",
      " 'jute' 'coffee']\n",
      "\n",
      "Type: N                int64\n",
      "P                int64\n",
      "K                int64\n",
      "temperature    float64\n",
      "humidity       float64\n",
      "ph             float64\n",
      "rainfall       float64\n",
      "label           object\n",
      "dtype: object\n",
      "\n",
      "Value Count: label\n",
      "rice           100\n",
      "maize          100\n",
      "jute           100\n",
      "cotton         100\n",
      "coconut        100\n",
      "papaya         100\n",
      "orange         100\n",
      "apple          100\n",
      "muskmelon      100\n",
      "watermelon     100\n",
      "grapes         100\n",
      "mango          100\n",
      "banana         100\n",
      "pomegranate    100\n",
      "lentil         100\n",
      "blackgram      100\n",
      "mungbean       100\n",
      "mothbeans      100\n",
      "pigeonpeas     100\n",
      "kidneybeans    100\n",
      "chickpea       100\n",
      "coffee         100\n",
      "Name: count, dtype: int64\n"
     ]
    }
   ],
   "source": [
    "PATH = 'Crop_recommendation.csv'\n",
    "df = pd.read_csv(PATH)\n",
    "\n",
    "print(df.head())\n",
    "print(\"\\n\\nSize:\" ,df.size)\n",
    "print(\"Shape:\" ,df.shape)\n",
    "print(\"Columns:\" ,df.columns)\n",
    "print(\"\\nUnique Labels:\" ,df['label'].unique())\n",
    "print(\"\\nType:\" ,df.dtypes)\n",
    "print(\"\\nValue Count:\" ,df['label'].value_counts())\n"
   ]
  },
  {
   "cell_type": "code",
   "execution_count": 27,
   "metadata": {},
   "outputs": [],
   "source": [
    "#Seperating features and target label \n",
    "features = df[['N', 'P','K','temperature', 'humidity', 'ph', 'rainfall']]\n",
    "target = df['label']\n",
    "labels = df['label']\n",
    "\n",
    "# Initializing empty lists to append all model's name and corresponding name\n",
    "acc = []\n",
    "model = []\n",
    "\n",
    "\n",
    "# Splitting into train and test data\n",
    "from sklearn.model_selection import train_test_split\n",
    "Xtrain, Xtest, Ytrain, Ytest = train_test_split(features,target,test_size = 0.2,random_state =2)\n"
   ]
  },
  {
   "cell_type": "markdown",
   "metadata": {},
   "source": [
    "Decision Tree"
   ]
  },
  {
   "cell_type": "code",
   "execution_count": 28,
   "metadata": {},
   "outputs": [
    {
     "name": "stdout",
     "output_type": "stream",
     "text": [
      "Decision Tree Accuracy: 90.00%\n",
      "Precision: 0.8572\n",
      "Recall: 0.9000\n",
      "F1-Score: 0.8707\n",
      "Cross Validation Accuracy: 0.9141\n"
     ]
    }
   ],
   "source": [
    "from sklearn.tree import DecisionTreeClassifier\n",
    "from sklearn.model_selection import cross_val_score\n",
    "from sklearn.metrics import accuracy_score, precision_score, recall_score, f1_score\n",
    "\n",
    "# Train Decision Tree\n",
    "DecisionTree = DecisionTreeClassifier(criterion=\"entropy\", random_state=2, max_depth=5)\n",
    "DecisionTree.fit(Xtrain, Ytrain)\n",
    "\n",
    "# Predict on test data\n",
    "predicted_values = DecisionTree.predict(Xtest)\n",
    "\n",
    "# Compute metrics\n",
    "accuracy = accuracy_score(Ytest, predicted_values)\n",
    "precision = precision_score(Ytest, predicted_values, average='weighted')\n",
    "recall = recall_score(Ytest, predicted_values, average='weighted')\n",
    "f1 = f1_score(Ytest, predicted_values, average='weighted')\n",
    "\n",
    "# Store accuracy in lists\n",
    "acc.append(accuracy)\n",
    "model.append('Decision Tree')\n",
    "\n",
    "# Print results\n",
    "print(f\"Decision Tree Accuracy: {accuracy * 100:.2f}%\")\n",
    "print(f\"Precision: {precision:.4f}\")\n",
    "print(f\"Recall: {recall:.4f}\")\n",
    "print(f\"F1-Score: {f1:.4f}\")\n",
    "\n",
    "#Cross Validation--> used because we are still deciding in the model \n",
    "score = cross_val_score(DecisionTree, features, target,cv=5)\n",
    "print(f\"Cross Validation Accuracy: {score.mean():.4f}\")\n",
    "\n",
    "\n",
    "\n",
    "#Saving the model\n",
    "import pickle\n",
    "DT_pkl_filename = 'models/DecisionTree.pkl'\n",
    "DT_Model_pkl = open(DT_pkl_filename, 'wb')\n",
    "pickle.dump(DecisionTree, DT_Model_pkl)\n",
    "DT_Model_pkl.close()\n"
   ]
  },
  {
   "cell_type": "markdown",
   "metadata": {},
   "source": [
    "Guassian Naive Bayes"
   ]
  },
  {
   "cell_type": "code",
   "execution_count": 29,
   "metadata": {},
   "outputs": [
    {
     "name": "stdout",
     "output_type": "stream",
     "text": [
      "Naive Bayes Accuracy: 99.09%\n",
      "Precision: 0.9920\n",
      "Recall: 0.9909\n",
      "F1-Score: 0.9906\n",
      "Cross Validation Accuracy: 0.9950\n"
     ]
    }
   ],
   "source": [
    "from sklearn.naive_bayes import GaussianNB\n",
    "from sklearn.model_selection import cross_val_score\n",
    "from sklearn.metrics import accuracy_score, precision_score, recall_score, f1_score\n",
    "\n",
    "#Training\n",
    "NaiveBayes = GaussianNB()\n",
    "NaiveBayes.fit(Xtrain,Ytrain)\n",
    "\n",
    "#Predict\n",
    "predicted_values = NaiveBayes.predict(Xtest)\n",
    "\n",
    "# Compute metrics\n",
    "accuracy = accuracy_score(Ytest, predicted_values)\n",
    "precision = precision_score(Ytest, predicted_values, average='weighted')\n",
    "recall = recall_score(Ytest, predicted_values, average='weighted')\n",
    "f1 = f1_score(Ytest, predicted_values, average='weighted')\n",
    "\n",
    "# Store accuracy in lists\n",
    "acc.append(accuracy)\n",
    "model.append('Naive Bayes')\n",
    "\n",
    "# Print results\n",
    "print(f\"Naive Bayes Accuracy: {accuracy * 100:.2f}%\")\n",
    "print(f\"Precision: {precision:.4f}\")\n",
    "print(f\"Recall: {recall:.4f}\")\n",
    "print(f\"F1-Score: {f1:.4f}\")\n",
    "\n",
    "\n",
    "#Cross Validation--> used because we are still deciding in the model \n",
    "score = cross_val_score(NaiveBayes, features, target,cv=5)\n",
    "print(f\"Cross Validation Accuracy: {score.mean():.4f}\")\n",
    "\n",
    "#Saving the model\n",
    "import pickle\n",
    "NB_pkl_filename = 'models/NBClassifier.pkl'\n",
    "NB_Model_pkl = open(NB_pkl_filename, 'wb')\n",
    "pickle.dump(NaiveBayes, NB_Model_pkl)\n",
    "NB_Model_pkl.close()\n",
    "\n"
   ]
  },
  {
   "cell_type": "markdown",
   "metadata": {},
   "source": [
    "Support Vector Machine (SVM)"
   ]
  },
  {
   "cell_type": "code",
   "execution_count": 30,
   "metadata": {},
   "outputs": [
    {
     "name": "stdout",
     "output_type": "stream",
     "text": [
      "SVM Accuracy: 97.73%\n",
      "Precision: 0.9775\n",
      "Recall: 0.9773\n",
      "F1-Score: 0.9773\n",
      "Cross Validation Accuracy: 0.9850\n"
     ]
    }
   ],
   "source": [
    "from sklearn.svm import SVC  \n",
    "from sklearn.model_selection import cross_val_score\n",
    "from sklearn.metrics import accuracy_score, precision_score, recall_score, f1_score\n",
    "import pickle\n",
    "\n",
    "# Training SVM model\n",
    "SVM = SVC(kernel='linear', random_state=2)  \n",
    "SVM.fit(Xtrain, Ytrain)\n",
    "\n",
    "# Predict on test data\n",
    "predicted_values = SVM.predict(Xtest)\n",
    "\n",
    "# Compute metrics\n",
    "accuracy = accuracy_score(Ytest, predicted_values)\n",
    "precision = precision_score(Ytest, predicted_values, average='weighted')\n",
    "recall = recall_score(Ytest, predicted_values, average='weighted')\n",
    "f1 = f1_score(Ytest, predicted_values, average='weighted')\n",
    "\n",
    "# Store accuracy in lists\n",
    "acc.append(accuracy)\n",
    "model.append('SVM')\n",
    "\n",
    "# Print results\n",
    "print(f\"SVM Accuracy: {accuracy * 100:.2f}%\")\n",
    "print(f\"Precision: {precision:.4f}\")\n",
    "print(f\"Recall: {recall:.4f}\")\n",
    "print(f\"F1-Score: {f1:.4f}\")\n",
    "\n",
    "# Cross-validation (used because we are still deciding on the model)\n",
    "score = cross_val_score(SVM, features, target, cv=5)  # Use SVM, Xtrain, and Ytrain\n",
    "print(f\"Cross Validation Accuracy: {score.mean():.4f}\")\n",
    "\n",
    "# Saving the SVM model\n",
    "SVM_pkl_filename = 'models/SVMClassifier.pkl'\n",
    "with open(SVM_pkl_filename, 'wb') as SVM_Model_pkl:\n",
    "    pickle.dump(SVM, SVM_Model_pkl)\n"
   ]
  },
  {
   "cell_type": "markdown",
   "metadata": {},
   "source": [
    "Logistic Regression"
   ]
  },
  {
   "cell_type": "code",
   "execution_count": 31,
   "metadata": {},
   "outputs": [
    {
     "name": "stdout",
     "output_type": "stream",
     "text": [
      "Logistic Regression Accuracy: 96.14%\n",
      "Precision: 0.9632\n",
      "Recall: 0.9614\n",
      "F1-Score: 0.9605\n",
      "Cross Validation Accuracy: 0.9655\n"
     ]
    }
   ],
   "source": [
    "from sklearn.linear_model import LogisticRegression  # Importing Logistic Regression\n",
    "from sklearn.model_selection import cross_val_score\n",
    "from sklearn.metrics import accuracy_score, precision_score, recall_score, f1_score\n",
    "import pickle\n",
    "\n",
    "# Training Logistic Regression model\n",
    "LogisticReg = LogisticRegression(random_state=2, max_iter=200)  # You can adjust hyperparameters\n",
    "LogisticReg.fit(Xtrain, Ytrain)\n",
    "\n",
    "# Predict on test data\n",
    "predicted_values = LogisticReg.predict(Xtest)\n",
    "\n",
    "# Compute metrics\n",
    "accuracy = accuracy_score(Ytest, predicted_values)\n",
    "precision = precision_score(Ytest, predicted_values, average='weighted')\n",
    "recall = recall_score(Ytest, predicted_values, average='weighted')\n",
    "f1 = f1_score(Ytest, predicted_values, average='weighted')\n",
    "\n",
    "# Store accuracy in lists\n",
    "acc.append(accuracy)\n",
    "model.append('Logistic Regression')\n",
    "\n",
    "# Print results\n",
    "print(f\"Logistic Regression Accuracy: {accuracy * 100:.2f}%\")\n",
    "print(f\"Precision: {precision:.4f}\")\n",
    "print(f\"Recall: {recall:.4f}\")\n",
    "print(f\"F1-Score: {f1:.4f}\")\n",
    "\n",
    "# Cross-validation (used because we are still deciding on the model)\n",
    "score = cross_val_score(LogisticReg, features, target, cv=5)  # Use LogisticReg, Xtrain, and Ytrain\n",
    "print(f\"Cross Validation Accuracy: {score.mean():.4f}\")\n",
    "\n",
    "#import pickle\n",
    "#LR_pkl_filename = 'LogisticRegression.pkl'\n",
    "#LR_Model_pkl = open(DT_pkl_filename, 'wb')\n",
    "#pickle.dump(LogisticReg, LR_Model_pkl)\n",
    "#LR_Model_pkl.close()\n"
   ]
  },
  {
   "cell_type": "markdown",
   "metadata": {},
   "source": [
    "Random Forest"
   ]
  },
  {
   "cell_type": "code",
   "execution_count": 32,
   "metadata": {},
   "outputs": [
    {
     "name": "stdout",
     "output_type": "stream",
     "text": [
      "Random Forest Accuracy: 99.55%\n",
      "Precision: 0.9958\n",
      "Recall: 0.9955\n",
      "F1-Score: 0.9954\n",
      "Cross Validation Accuracy: 0.9927\n"
     ]
    }
   ],
   "source": [
    "from sklearn.ensemble import RandomForestClassifier  # Importing Random Forest Classifier\n",
    "from sklearn.model_selection import cross_val_score\n",
    "from sklearn.metrics import accuracy_score, precision_score, recall_score, f1_score\n",
    "import pickle\n",
    "\n",
    "\n",
    "# Training Random Forest model\n",
    "RF = RandomForestClassifier(random_state=2, n_estimators=100)  # You can adjust n_estimators and other hyperparameters\n",
    "RF.fit(Xtrain, Ytrain)\n",
    "\n",
    "# Predict on test data\n",
    "predicted_values = RF.predict(Xtest)\n",
    "\n",
    "# Compute metrics\n",
    "accuracy = accuracy_score(Ytest, predicted_values)\n",
    "precision = precision_score(Ytest, predicted_values, average='weighted')\n",
    "recall = recall_score(Ytest, predicted_values, average='weighted')\n",
    "f1 = f1_score(Ytest, predicted_values, average='weighted')\n",
    "\n",
    "# Store accuracy in lists\n",
    "acc.append(accuracy)\n",
    "model.append('Random Forest')\n",
    "\n",
    "# Print results\n",
    "print(f\"Random Forest Accuracy: {accuracy * 100:.2f}%\")\n",
    "print(f\"Precision: {precision:.4f}\")\n",
    "print(f\"Recall: {recall:.4f}\")\n",
    "print(f\"F1-Score: {f1:.4f}\")\n",
    "\n",
    "# Cross-validation (used because we are still deciding on the model)\n",
    "score = cross_val_score(RF, features, target, cv=5)  \n",
    "print(f\"Cross Validation Accuracy: {score.mean():.4f}\")\n",
    "\n",
    "# Saving the Random Forest model\n",
    "RF_pkl_filename = 'models/RandomForest.pkl'\n",
    "RF_Model_pkl = open(RF_pkl_filename, 'wb')\n",
    "pickle.dump(RF, RF_Model_pkl)\n",
    "RF_Model_pkl.close()\n"
   ]
  },
  {
   "cell_type": "markdown",
   "metadata": {},
   "source": [
    "XGBoost\n"
   ]
  },
  {
   "cell_type": "code",
   "execution_count": 33,
   "metadata": {},
   "outputs": [
    {
     "name": "stdout",
     "output_type": "stream",
     "text": [
      "XGBoost Accuracy: 99.09%\n",
      "Precision: 0.9913\n",
      "Recall: 0.9909\n",
      "F1-Score: 0.9908\n",
      "Cross Validation Accuracy: 0.9858\n"
     ]
    }
   ],
   "source": [
    "from sklearn.preprocessing import LabelEncoder\n",
    "import xgboost as xgb\n",
    "from sklearn.model_selection import cross_val_score\n",
    "from sklearn.metrics import accuracy_score, precision_score, recall_score, f1_score\n",
    "import pickle\n",
    "\n",
    "# Encode string labels to numeric values\n",
    "label_encoder = LabelEncoder()\n",
    "Ytrain_encoded = label_encoder.fit_transform(Ytrain)  # Convert string labels to numbers\n",
    "Ytest_encoded = label_encoder.transform(Ytest)  # Transform test labels using the same encoding\n",
    "\n",
    "# Training XGBoost model\n",
    "XB = xgb.XGBClassifier(use_label_encoder=False, eval_metric='logloss', random_state=2, n_estimators=100)\n",
    "XB.fit(Xtrain, Ytrain_encoded)  # Use encoded labels\n",
    "\n",
    "# Predict on test data\n",
    "predicted_values = XB.predict(Xtest)\n",
    "\n",
    "# Convert predictions back to original labels (optional)\n",
    "predicted_labels = label_encoder.inverse_transform(predicted_values)\n",
    "\n",
    "# Compute metrics\n",
    "accuracy = accuracy_score(Ytest_encoded, predicted_values)\n",
    "precision = precision_score(Ytest_encoded, predicted_values, average='weighted')\n",
    "recall = recall_score(Ytest_encoded, predicted_values, average='weighted')\n",
    "f1 = f1_score(Ytest_encoded, predicted_values, average='weighted')\n",
    "\n",
    "# Store accuracy in lists\n",
    "acc.append(accuracy)\n",
    "model.append('XGBoost')\n",
    "\n",
    "# Print results\n",
    "print(f\"XGBoost Accuracy: {accuracy * 100:.2f}%\")\n",
    "print(f\"Precision: {precision:.4f}\")\n",
    "print(f\"Recall: {recall:.4f}\")\n",
    "print(f\"F1-Score: {f1:.4f}\")\n",
    "\n",
    "# Cross-validation (use encoded labels)\n",
    "score = cross_val_score(XB, Xtrain, Ytrain_encoded, cv=5)  \n",
    "print(f\"Cross Validation Accuracy: {score.mean():.4f}\")\n",
    "\n",
    "# Saving the XGBoost model\n",
    "XB_pkl_filename = 'models/XGBoost.pkl'\n",
    "with open(XB_pkl_filename, 'wb') as XB_Model_pkl:\n",
    "    pickle.dump(XB, XB_Model_pkl)\n"
   ]
  },
  {
   "cell_type": "markdown",
   "metadata": {},
   "source": [
    "Accuracy Comparison"
   ]
  },
  {
   "cell_type": "code",
   "execution_count": 34,
   "metadata": {},
   "outputs": [
    {
     "data": {
      "text/plain": [
       "<Axes: title={'center': 'Accuracy Comparison'}, xlabel='Accuracy', ylabel='Algorithm'>"
      ]
     },
     "execution_count": 34,
     "metadata": {},
     "output_type": "execute_result"
    },
    {
     "data": {
      "image/png": "[encoded data removed]",
      "text/plain": [
       "<Figure size 1000x500 with 1 Axes>"
      ]
     },
     "metadata": {},
     "output_type": "display_data"
    }
   ],
   "source": [
    "plt.figure(figsize=[10,5],dpi = 100)\n",
    "plt.title('Accuracy Comparison')\n",
    "plt.xlabel('Accuracy')\n",
    "plt.ylabel('Algorithm')\n",
    "sns.barplot(x = acc,y = model,palette='dark')\n"
   ]
  },
  {
   "cell_type": "code",
   "execution_count": 35,
   "metadata": {},
   "outputs": [
    {
     "name": "stdout",
     "output_type": "stream",
     "text": [
      "Decision Tree --> 0.9\n",
      "Naive Bayes --> 0.990909090909091\n",
      "SVM --> 0.9772727272727273\n",
      "Logistic Regression --> 0.9613636363636363\n",
      "Random Forest --> 0.9954545454545455\n",
      "XGBoost --> 0.990909090909091\n"
     ]
    }
   ],
   "source": [
    "accuracy_models = dict(zip(model, acc))\n",
    "for k, v in accuracy_models.items():\n",
    "    print (k, '-->', v)"
   ]
  },
  {
   "cell_type": "markdown",
   "metadata": {},
   "source": [
    "Making a Prediction"
   ]
  },
  {
   "cell_type": "code",
   "execution_count": 36,
   "metadata": {},
   "outputs": [
    {
     "name": "stdout",
     "output_type": "stream",
     "text": [
      "[[ 60.  60.  60.  25.  40.   5. 150.]]\n",
      "['jute']\n"
     ]
    }
   ],
   "source": [
    "N = 60\n",
    "P = 60\n",
    "k = 60\n",
    "temperature = 25\n",
    "humidity = 40\n",
    "ph = 5.0\n",
    "rainfall = 150\n",
    "\n",
    "data = np.array([[N,P,k,temperature,humidity,ph,rainfall]])\n",
    "print(data)\n",
    "prediction = DecisionTree.predict(data)\n",
    "print(prediction)"
   ]
  },
  {
   "cell_type": "code",
   "execution_count": 37,
   "metadata": {},
   "outputs": [
    {
     "name": "stdout",
     "output_type": "stream",
     "text": [
      "Model loaded successfully\n",
      "[[ 50  50  60  30  45   6 140]]\n",
      "Prediction: ['papaya']\n",
      "['papaya']\n"
     ]
    }
   ],
   "source": [
    "import joblib \n",
    "\n",
    "N = 50\n",
    "P = 50\n",
    "k = 60\n",
    "temperature = 30\n",
    "humidity = 45\n",
    "ph = 6\n",
    "rainfall = 140\n",
    "\n",
    "model_path = \"models\\RandomForest.pkl\"\n",
    "model = joblib.load(model_path)\n",
    "print(\"Model loaded successfully\")\n",
    "\n",
    "data = np.array([[N,P,k,temperature,humidity,ph,rainfall]])\n",
    "print(data)\n",
    "\n",
    "prediction = model.predict(data)  # Correcting prediction statement\n",
    "print(\"Prediction:\", prediction)\n",
    "\n",
    "prediction2 = RF.predict(data)\n",
    "print(prediction2)\n",
    "\n"
   ]
  }
 ],
 "metadata": {
  "kernelspec": {
   "display_name": "Python 3",
   "language": "python",
   "name": "python3"
  },
  "language_info": {
   "codemirror_mode": {
    "name": "ipython",
    "version": 3
   },
   "file_extension": ".py",
   "mimetype": "text/x-python",
   "name": "python",
   "nbconvert_exporter": "python",
   "pygments_lexer": "ipython3",
   "version": "3.12.3"
  }
 },
 "nbformat": 4,
 "nbformat_minor": 2
}
